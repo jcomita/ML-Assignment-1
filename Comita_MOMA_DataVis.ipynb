{
  "nbformat": 4,
  "nbformat_minor": 0,
  "metadata": {
    "colab": {
      "provenance": [],
      "include_colab_link": true
    },
    "kernelspec": {
      "name": "python3",
      "display_name": "Python 3"
    },
    "language_info": {
      "name": "python"
    }
  },
  "cells": [
    {
      "cell_type": "markdown",
      "metadata": {
        "id": "view-in-github",
        "colab_type": "text"
      },
      "source": [
        "<a href=\"https://colab.research.google.com/github/jcomita/ML-Assignment-1/blob/main/Comita_MOMA_DataVis.ipynb\" target=\"_parent\"><img src=\"https://colab.research.google.com/assets/colab-badge.svg\" alt=\"Open In Colab\"/></a>"
      ]
    },
    {
      "cell_type": "code",
      "execution_count": 2,
      "metadata": {
        "id": "Iqw0abwIPvwj"
      },
      "outputs": [],
      "source": [
        "import pandas as pd"
      ]
    },
    {
      "cell_type": "code",
      "source": [
        "#load MOMA artists database\n",
        "df_moma_artists = pd.read_csv('https://media.githubusercontent.com/media/MuseumofModernArt/collection/main/Artists.csv')"
      ],
      "metadata": {
        "id": "8O_0pyXAQHD6"
      },
      "execution_count": 9,
      "outputs": []
    },
    {
      "cell_type": "code",
      "source": [
        "#inspecting data\n",
        "df_moma_artists.head(156633)"
      ],
      "metadata": {
        "colab": {
          "base_uri": "https://localhost:8080/",
          "height": 424
        },
        "id": "1oW18-fEST9_",
        "outputId": "2a62cb58-7430-438f-b3d6-779488ad432f"
      },
      "execution_count": 10,
      "outputs": [
        {
          "output_type": "execute_result",
          "data": {
            "text/plain": [
              "       ConstituentID                       DisplayName  \\\n",
              "0                  1                    Robert Arneson   \n",
              "1                  2                    Doroteo Arnaiz   \n",
              "2                  3                       Bill Arnold   \n",
              "3                  4                   Charles Arnoldi   \n",
              "4                  5                       Per Arnoldi   \n",
              "...              ...                               ...   \n",
              "15590         138318                   Angelo González   \n",
              "15591         138319                      Roy Battiste   \n",
              "15592         138320          (Moses) Anthony Figueroa   \n",
              "15593         138321                        Sal Becker   \n",
              "15594         138323  MTA (Marina Tabassum Architects)   \n",
              "\n",
              "                      ArtistBio  Nationality Gender  BeginDate  EndDate  \\\n",
              "0           American, 1930–1992     American   male       1930     1992   \n",
              "1            Spanish, born 1936      Spanish   male       1936        0   \n",
              "2           American, born 1941     American   male       1941        0   \n",
              "3           American, born 1946     American   male       1946        0   \n",
              "4             Danish, born 1941       Danish   male       1941        0   \n",
              "...                         ...          ...    ...        ...      ...   \n",
              "15590                       NaN          NaN   male          0        0   \n",
              "15591                       NaN          NaN   male          0        0   \n",
              "15592                       NaN          NaN    NaN          0        0   \n",
              "15593                       NaN          NaN   male          0        0   \n",
              "15594  Bangladesh, founded 2005  Bangladeshi    NaN       2005        0   \n",
              "\n",
              "       Wiki QID         ULAN  \n",
              "0           NaN          NaN  \n",
              "1           NaN          NaN  \n",
              "2           NaN          NaN  \n",
              "3      Q1063584  500027998.0  \n",
              "4           NaN          NaN  \n",
              "...         ...          ...  \n",
              "15590       NaN          NaN  \n",
              "15591       NaN          NaN  \n",
              "15592       NaN          NaN  \n",
              "15593       NaN          NaN  \n",
              "15594       NaN          NaN  \n",
              "\n",
              "[15595 rows x 9 columns]"
            ],
            "text/html": [
              "\n",
              "  <div id=\"df-b5ff2dd8-6297-4084-b6da-ec06362aac5d\" class=\"colab-df-container\">\n",
              "    <div>\n",
              "<style scoped>\n",
              "    .dataframe tbody tr th:only-of-type {\n",
              "        vertical-align: middle;\n",
              "    }\n",
              "\n",
              "    .dataframe tbody tr th {\n",
              "        vertical-align: top;\n",
              "    }\n",
              "\n",
              "    .dataframe thead th {\n",
              "        text-align: right;\n",
              "    }\n",
              "</style>\n",
              "<table border=\"1\" class=\"dataframe\">\n",
              "  <thead>\n",
              "    <tr style=\"text-align: right;\">\n",
              "      <th></th>\n",
              "      <th>ConstituentID</th>\n",
              "      <th>DisplayName</th>\n",
              "      <th>ArtistBio</th>\n",
              "      <th>Nationality</th>\n",
              "      <th>Gender</th>\n",
              "      <th>BeginDate</th>\n",
              "      <th>EndDate</th>\n",
              "      <th>Wiki QID</th>\n",
              "      <th>ULAN</th>\n",
              "    </tr>\n",
              "  </thead>\n",
              "  <tbody>\n",
              "    <tr>\n",
              "      <th>0</th>\n",
              "      <td>1</td>\n",
              "      <td>Robert Arneson</td>\n",
              "      <td>American, 1930–1992</td>\n",
              "      <td>American</td>\n",
              "      <td>male</td>\n",
              "      <td>1930</td>\n",
              "      <td>1992</td>\n",
              "      <td>NaN</td>\n",
              "      <td>NaN</td>\n",
              "    </tr>\n",
              "    <tr>\n",
              "      <th>1</th>\n",
              "      <td>2</td>\n",
              "      <td>Doroteo Arnaiz</td>\n",
              "      <td>Spanish, born 1936</td>\n",
              "      <td>Spanish</td>\n",
              "      <td>male</td>\n",
              "      <td>1936</td>\n",
              "      <td>0</td>\n",
              "      <td>NaN</td>\n",
              "      <td>NaN</td>\n",
              "    </tr>\n",
              "    <tr>\n",
              "      <th>2</th>\n",
              "      <td>3</td>\n",
              "      <td>Bill Arnold</td>\n",
              "      <td>American, born 1941</td>\n",
              "      <td>American</td>\n",
              "      <td>male</td>\n",
              "      <td>1941</td>\n",
              "      <td>0</td>\n",
              "      <td>NaN</td>\n",
              "      <td>NaN</td>\n",
              "    </tr>\n",
              "    <tr>\n",
              "      <th>3</th>\n",
              "      <td>4</td>\n",
              "      <td>Charles Arnoldi</td>\n",
              "      <td>American, born 1946</td>\n",
              "      <td>American</td>\n",
              "      <td>male</td>\n",
              "      <td>1946</td>\n",
              "      <td>0</td>\n",
              "      <td>Q1063584</td>\n",
              "      <td>500027998.0</td>\n",
              "    </tr>\n",
              "    <tr>\n",
              "      <th>4</th>\n",
              "      <td>5</td>\n",
              "      <td>Per Arnoldi</td>\n",
              "      <td>Danish, born 1941</td>\n",
              "      <td>Danish</td>\n",
              "      <td>male</td>\n",
              "      <td>1941</td>\n",
              "      <td>0</td>\n",
              "      <td>NaN</td>\n",
              "      <td>NaN</td>\n",
              "    </tr>\n",
              "    <tr>\n",
              "      <th>...</th>\n",
              "      <td>...</td>\n",
              "      <td>...</td>\n",
              "      <td>...</td>\n",
              "      <td>...</td>\n",
              "      <td>...</td>\n",
              "      <td>...</td>\n",
              "      <td>...</td>\n",
              "      <td>...</td>\n",
              "      <td>...</td>\n",
              "    </tr>\n",
              "    <tr>\n",
              "      <th>15590</th>\n",
              "      <td>138318</td>\n",
              "      <td>Angelo González</td>\n",
              "      <td>NaN</td>\n",
              "      <td>NaN</td>\n",
              "      <td>male</td>\n",
              "      <td>0</td>\n",
              "      <td>0</td>\n",
              "      <td>NaN</td>\n",
              "      <td>NaN</td>\n",
              "    </tr>\n",
              "    <tr>\n",
              "      <th>15591</th>\n",
              "      <td>138319</td>\n",
              "      <td>Roy Battiste</td>\n",
              "      <td>NaN</td>\n",
              "      <td>NaN</td>\n",
              "      <td>male</td>\n",
              "      <td>0</td>\n",
              "      <td>0</td>\n",
              "      <td>NaN</td>\n",
              "      <td>NaN</td>\n",
              "    </tr>\n",
              "    <tr>\n",
              "      <th>15592</th>\n",
              "      <td>138320</td>\n",
              "      <td>(Moses) Anthony Figueroa</td>\n",
              "      <td>NaN</td>\n",
              "      <td>NaN</td>\n",
              "      <td>NaN</td>\n",
              "      <td>0</td>\n",
              "      <td>0</td>\n",
              "      <td>NaN</td>\n",
              "      <td>NaN</td>\n",
              "    </tr>\n",
              "    <tr>\n",
              "      <th>15593</th>\n",
              "      <td>138321</td>\n",
              "      <td>Sal Becker</td>\n",
              "      <td>NaN</td>\n",
              "      <td>NaN</td>\n",
              "      <td>male</td>\n",
              "      <td>0</td>\n",
              "      <td>0</td>\n",
              "      <td>NaN</td>\n",
              "      <td>NaN</td>\n",
              "    </tr>\n",
              "    <tr>\n",
              "      <th>15594</th>\n",
              "      <td>138323</td>\n",
              "      <td>MTA (Marina Tabassum Architects)</td>\n",
              "      <td>Bangladesh, founded 2005</td>\n",
              "      <td>Bangladeshi</td>\n",
              "      <td>NaN</td>\n",
              "      <td>2005</td>\n",
              "      <td>0</td>\n",
              "      <td>NaN</td>\n",
              "      <td>NaN</td>\n",
              "    </tr>\n",
              "  </tbody>\n",
              "</table>\n",
              "<p>15595 rows × 9 columns</p>\n",
              "</div>\n",
              "    <div class=\"colab-df-buttons\">\n",
              "\n",
              "  <div class=\"colab-df-container\">\n",
              "    <button class=\"colab-df-convert\" onclick=\"convertToInteractive('df-b5ff2dd8-6297-4084-b6da-ec06362aac5d')\"\n",
              "            title=\"Convert this dataframe to an interactive table.\"\n",
              "            style=\"display:none;\">\n",
              "\n",
              "  <svg xmlns=\"http://www.w3.org/2000/svg\" height=\"24px\" viewBox=\"0 -960 960 960\">\n",
              "    <path d=\"M120-120v-720h720v720H120Zm60-500h600v-160H180v160Zm220 220h160v-160H400v160Zm0 220h160v-160H400v160ZM180-400h160v-160H180v160Zm440 0h160v-160H620v160ZM180-180h160v-160H180v160Zm440 0h160v-160H620v160Z\"/>\n",
              "  </svg>\n",
              "    </button>\n",
              "\n",
              "  <style>\n",
              "    .colab-df-container {\n",
              "      display:flex;\n",
              "      gap: 12px;\n",
              "    }\n",
              "\n",
              "    .colab-df-convert {\n",
              "      background-color: #E8F0FE;\n",
              "      border: none;\n",
              "      border-radius: 50%;\n",
              "      cursor: pointer;\n",
              "      display: none;\n",
              "      fill: #1967D2;\n",
              "      height: 32px;\n",
              "      padding: 0 0 0 0;\n",
              "      width: 32px;\n",
              "    }\n",
              "\n",
              "    .colab-df-convert:hover {\n",
              "      background-color: #E2EBFA;\n",
              "      box-shadow: 0px 1px 2px rgba(60, 64, 67, 0.3), 0px 1px 3px 1px rgba(60, 64, 67, 0.15);\n",
              "      fill: #174EA6;\n",
              "    }\n",
              "\n",
              "    .colab-df-buttons div {\n",
              "      margin-bottom: 4px;\n",
              "    }\n",
              "\n",
              "    [theme=dark] .colab-df-convert {\n",
              "      background-color: #3B4455;\n",
              "      fill: #D2E3FC;\n",
              "    }\n",
              "\n",
              "    [theme=dark] .colab-df-convert:hover {\n",
              "      background-color: #434B5C;\n",
              "      box-shadow: 0px 1px 3px 1px rgba(0, 0, 0, 0.15);\n",
              "      filter: drop-shadow(0px 1px 2px rgba(0, 0, 0, 0.3));\n",
              "      fill: #FFFFFF;\n",
              "    }\n",
              "  </style>\n",
              "\n",
              "    <script>\n",
              "      const buttonEl =\n",
              "        document.querySelector('#df-b5ff2dd8-6297-4084-b6da-ec06362aac5d button.colab-df-convert');\n",
              "      buttonEl.style.display =\n",
              "        google.colab.kernel.accessAllowed ? 'block' : 'none';\n",
              "\n",
              "      async function convertToInteractive(key) {\n",
              "        const element = document.querySelector('#df-b5ff2dd8-6297-4084-b6da-ec06362aac5d');\n",
              "        const dataTable =\n",
              "          await google.colab.kernel.invokeFunction('convertToInteractive',\n",
              "                                                    [key], {});\n",
              "        if (!dataTable) return;\n",
              "\n",
              "        const docLinkHtml = 'Like what you see? Visit the ' +\n",
              "          '<a target=\"_blank\" href=https://colab.research.google.com/notebooks/data_table.ipynb>data table notebook</a>'\n",
              "          + ' to learn more about interactive tables.';\n",
              "        element.innerHTML = '';\n",
              "        dataTable['output_type'] = 'display_data';\n",
              "        await google.colab.output.renderOutput(dataTable, element);\n",
              "        const docLink = document.createElement('div');\n",
              "        docLink.innerHTML = docLinkHtml;\n",
              "        element.appendChild(docLink);\n",
              "      }\n",
              "    </script>\n",
              "  </div>\n",
              "\n",
              "\n",
              "<div id=\"df-8f594319-69b9-4964-9b54-03283af36dd1\">\n",
              "  <button class=\"colab-df-quickchart\" onclick=\"quickchart('df-8f594319-69b9-4964-9b54-03283af36dd1')\"\n",
              "            title=\"Suggest charts\"\n",
              "            style=\"display:none;\">\n",
              "\n",
              "<svg xmlns=\"http://www.w3.org/2000/svg\" height=\"24px\"viewBox=\"0 0 24 24\"\n",
              "     width=\"24px\">\n",
              "    <g>\n",
              "        <path d=\"M19 3H5c-1.1 0-2 .9-2 2v14c0 1.1.9 2 2 2h14c1.1 0 2-.9 2-2V5c0-1.1-.9-2-2-2zM9 17H7v-7h2v7zm4 0h-2V7h2v10zm4 0h-2v-4h2v4z\"/>\n",
              "    </g>\n",
              "</svg>\n",
              "  </button>\n",
              "\n",
              "<style>\n",
              "  .colab-df-quickchart {\n",
              "      --bg-color: #E8F0FE;\n",
              "      --fill-color: #1967D2;\n",
              "      --hover-bg-color: #E2EBFA;\n",
              "      --hover-fill-color: #174EA6;\n",
              "      --disabled-fill-color: #AAA;\n",
              "      --disabled-bg-color: #DDD;\n",
              "  }\n",
              "\n",
              "  [theme=dark] .colab-df-quickchart {\n",
              "      --bg-color: #3B4455;\n",
              "      --fill-color: #D2E3FC;\n",
              "      --hover-bg-color: #434B5C;\n",
              "      --hover-fill-color: #FFFFFF;\n",
              "      --disabled-bg-color: #3B4455;\n",
              "      --disabled-fill-color: #666;\n",
              "  }\n",
              "\n",
              "  .colab-df-quickchart {\n",
              "    background-color: var(--bg-color);\n",
              "    border: none;\n",
              "    border-radius: 50%;\n",
              "    cursor: pointer;\n",
              "    display: none;\n",
              "    fill: var(--fill-color);\n",
              "    height: 32px;\n",
              "    padding: 0;\n",
              "    width: 32px;\n",
              "  }\n",
              "\n",
              "  .colab-df-quickchart:hover {\n",
              "    background-color: var(--hover-bg-color);\n",
              "    box-shadow: 0 1px 2px rgba(60, 64, 67, 0.3), 0 1px 3px 1px rgba(60, 64, 67, 0.15);\n",
              "    fill: var(--button-hover-fill-color);\n",
              "  }\n",
              "\n",
              "  .colab-df-quickchart-complete:disabled,\n",
              "  .colab-df-quickchart-complete:disabled:hover {\n",
              "    background-color: var(--disabled-bg-color);\n",
              "    fill: var(--disabled-fill-color);\n",
              "    box-shadow: none;\n",
              "  }\n",
              "\n",
              "  .colab-df-spinner {\n",
              "    border: 2px solid var(--fill-color);\n",
              "    border-color: transparent;\n",
              "    border-bottom-color: var(--fill-color);\n",
              "    animation:\n",
              "      spin 1s steps(1) infinite;\n",
              "  }\n",
              "\n",
              "  @keyframes spin {\n",
              "    0% {\n",
              "      border-color: transparent;\n",
              "      border-bottom-color: var(--fill-color);\n",
              "      border-left-color: var(--fill-color);\n",
              "    }\n",
              "    20% {\n",
              "      border-color: transparent;\n",
              "      border-left-color: var(--fill-color);\n",
              "      border-top-color: var(--fill-color);\n",
              "    }\n",
              "    30% {\n",
              "      border-color: transparent;\n",
              "      border-left-color: var(--fill-color);\n",
              "      border-top-color: var(--fill-color);\n",
              "      border-right-color: var(--fill-color);\n",
              "    }\n",
              "    40% {\n",
              "      border-color: transparent;\n",
              "      border-right-color: var(--fill-color);\n",
              "      border-top-color: var(--fill-color);\n",
              "    }\n",
              "    60% {\n",
              "      border-color: transparent;\n",
              "      border-right-color: var(--fill-color);\n",
              "    }\n",
              "    80% {\n",
              "      border-color: transparent;\n",
              "      border-right-color: var(--fill-color);\n",
              "      border-bottom-color: var(--fill-color);\n",
              "    }\n",
              "    90% {\n",
              "      border-color: transparent;\n",
              "      border-bottom-color: var(--fill-color);\n",
              "    }\n",
              "  }\n",
              "</style>\n",
              "\n",
              "  <script>\n",
              "    async function quickchart(key) {\n",
              "      const quickchartButtonEl =\n",
              "        document.querySelector('#' + key + ' button');\n",
              "      quickchartButtonEl.disabled = true;  // To prevent multiple clicks.\n",
              "      quickchartButtonEl.classList.add('colab-df-spinner');\n",
              "      try {\n",
              "        const charts = await google.colab.kernel.invokeFunction(\n",
              "            'suggestCharts', [key], {});\n",
              "      } catch (error) {\n",
              "        console.error('Error during call to suggestCharts:', error);\n",
              "      }\n",
              "      quickchartButtonEl.classList.remove('colab-df-spinner');\n",
              "      quickchartButtonEl.classList.add('colab-df-quickchart-complete');\n",
              "    }\n",
              "    (() => {\n",
              "      let quickchartButtonEl =\n",
              "        document.querySelector('#df-8f594319-69b9-4964-9b54-03283af36dd1 button');\n",
              "      quickchartButtonEl.style.display =\n",
              "        google.colab.kernel.accessAllowed ? 'block' : 'none';\n",
              "    })();\n",
              "  </script>\n",
              "</div>\n",
              "\n",
              "    </div>\n",
              "  </div>\n"
            ],
            "application/vnd.google.colaboratory.intrinsic+json": {
              "type": "dataframe",
              "variable_name": "df_moma_artists",
              "summary": "{\n  \"name\": \"df_moma_artists\",\n  \"rows\": 15595,\n  \"fields\": [\n    {\n      \"column\": \"ConstituentID\",\n      \"properties\": {\n        \"dtype\": \"number\",\n        \"std\": 29037,\n        \"min\": 1,\n        \"max\": 138323,\n        \"num_unique_values\": 15595,\n        \"samples\": [\n          28940,\n          28758,\n          19660\n        ],\n        \"semantic_type\": \"\",\n        \"description\": \"\"\n      }\n    },\n    {\n      \"column\": \"DisplayName\",\n      \"properties\": {\n        \"dtype\": \"string\",\n        \"num_unique_values\": 15538,\n        \"samples\": [\n          \"Sigr\\u00ed\\u00f0ur Bj\\u00f6rnsd\\u00f3ttir\",\n          \"Ottomar Ansch\\u00fctz\",\n          \"William Theophilus Brown\"\n        ],\n        \"semantic_type\": \"\",\n        \"description\": \"\"\n      }\n    },\n    {\n      \"column\": \"ArtistBio\",\n      \"properties\": {\n        \"dtype\": \"category\",\n        \"num_unique_values\": 7669,\n        \"samples\": [\n          \"French, 1862\\u20131934\",\n          \"Cuban, 1967\\u20131999\",\n          \"American, 1890\\u20131944\"\n        ],\n        \"semantic_type\": \"\",\n        \"description\": \"\"\n      }\n    },\n    {\n      \"column\": \"Nationality\",\n      \"properties\": {\n        \"dtype\": \"category\",\n        \"num_unique_values\": 128,\n        \"samples\": [\n          \"Algerian\",\n          \"Portuguese\",\n          \"Argentine\"\n        ],\n        \"semantic_type\": \"\",\n        \"description\": \"\"\n      }\n    },\n    {\n      \"column\": \"Gender\",\n      \"properties\": {\n        \"dtype\": \"category\",\n        \"num_unique_values\": 7,\n        \"samples\": [\n          \"male\",\n          \"female\",\n          \"transgender woman\"\n        ],\n        \"semantic_type\": \"\",\n        \"description\": \"\"\n      }\n    },\n    {\n      \"column\": \"BeginDate\",\n      \"properties\": {\n        \"dtype\": \"number\",\n        \"std\": 810,\n        \"min\": 0,\n        \"max\": 2017,\n        \"num_unique_values\": 237,\n        \"samples\": [\n          1753,\n          1867,\n          2002\n        ],\n        \"semantic_type\": \"\",\n        \"description\": \"\"\n      }\n    },\n    {\n      \"column\": \"EndDate\",\n      \"properties\": {\n        \"dtype\": \"number\",\n        \"std\": 947,\n        \"min\": 0,\n        \"max\": 2024,\n        \"num_unique_values\": 173,\n        \"samples\": [\n          1858,\n          1959,\n          2015\n        ],\n        \"semantic_type\": \"\",\n        \"description\": \"\"\n      }\n    },\n    {\n      \"column\": \"Wiki QID\",\n      \"properties\": {\n        \"dtype\": \"category\",\n        \"num_unique_values\": 3242,\n        \"samples\": [\n          \"Q830980\",\n          \"Q61507\",\n          \"Q77378\"\n        ],\n        \"semantic_type\": \"\",\n        \"description\": \"\"\n      }\n    },\n    {\n      \"column\": \"ULAN\",\n      \"properties\": {\n        \"dtype\": \"number\",\n        \"std\": 86603.45982629545,\n        \"min\": 500000006.0,\n        \"max\": 500356571.0,\n        \"num_unique_values\": 2928,\n        \"samples\": [\n          500347126.0,\n          500021263.0,\n          500007393.0\n        ],\n        \"semantic_type\": \"\",\n        \"description\": \"\"\n      }\n    }\n  ]\n}"
            }
          },
          "metadata": {},
          "execution_count": 10
        }
      ]
    },
    {
      "cell_type": "code",
      "source": [
        "#summarize data\n",
        "df_moma_artists.info()"
      ],
      "metadata": {
        "id": "gmBwZxC8QSb_",
        "colab": {
          "base_uri": "https://localhost:8080/"
        },
        "outputId": "dcbba77f-ebe0-4212-d771-4b06d6e95563"
      },
      "execution_count": 11,
      "outputs": [
        {
          "output_type": "stream",
          "name": "stdout",
          "text": [
            "<class 'pandas.core.frame.DataFrame'>\n",
            "RangeIndex: 15595 entries, 0 to 15594\n",
            "Data columns (total 9 columns):\n",
            " #   Column         Non-Null Count  Dtype  \n",
            "---  ------         --------------  -----  \n",
            " 0   ConstituentID  15595 non-null  int64  \n",
            " 1   DisplayName    15595 non-null  object \n",
            " 2   ArtistBio      13401 non-null  object \n",
            " 3   Nationality    13107 non-null  object \n",
            " 4   Gender         12352 non-null  object \n",
            " 5   BeginDate      15595 non-null  int64  \n",
            " 6   EndDate        15595 non-null  int64  \n",
            " 7   Wiki QID       3247 non-null   object \n",
            " 8   ULAN           2931 non-null   float64\n",
            "dtypes: float64(1), int64(3), object(5)\n",
            "memory usage: 1.1+ MB\n"
          ]
        }
      ]
    },
    {
      "cell_type": "code",
      "source": [
        "#check data for any potential numerical errors\n",
        "missing_values = df_moma_artists.isnull().sum()\n",
        "print(\"missing values per column:\\n\", missing_values)"
      ],
      "metadata": {
        "colab": {
          "base_uri": "https://localhost:8080/"
        },
        "id": "XA0A01qtTuv9",
        "outputId": "bc0956a4-849a-48f4-d6ea-61fa8ca42ac9"
      },
      "execution_count": 14,
      "outputs": [
        {
          "output_type": "stream",
          "name": "stdout",
          "text": [
            "missing values per column:\n",
            " ConstituentID        0\n",
            "DisplayName          0\n",
            "ArtistBio         2194\n",
            "Nationality       2488\n",
            "Gender            3243\n",
            "BeginDate            0\n",
            "EndDate              0\n",
            "Wiki QID         12348\n",
            "ULAN             12664\n",
            "dtype: int64\n"
          ]
        }
      ]
    },
    {
      "cell_type": "code",
      "source": [
        "#check data for any potential duplicates\n",
        "duplicates = df_moma_artists[df_moma_artists.duplicated]\n",
        "print(\"Duplicates:\\n\", duplicates)"
      ],
      "metadata": {
        "colab": {
          "base_uri": "https://localhost:8080/"
        },
        "id": "Wgn-6KaxYkyL",
        "outputId": "3d8d6ca6-9f85-4585-cb5c-c4944fbf6115"
      },
      "execution_count": 17,
      "outputs": [
        {
          "output_type": "stream",
          "name": "stdout",
          "text": [
            "Duplicates:\n",
            " Empty DataFrame\n",
            "Columns: [ConstituentID, DisplayName, ArtistBio, Nationality, Gender, BeginDate, EndDate, Wiki QID, ULAN]\n",
            "Index: []\n"
          ]
        }
      ]
    },
    {
      "cell_type": "code",
      "source": [
        "#Examine column Artist Bio\n",
        "df_moma_artists['ArtistBio']"
      ],
      "metadata": {
        "colab": {
          "base_uri": "https://localhost:8080/",
          "height": 458
        },
        "id": "2Mt0fR-hmGnX",
        "outputId": "8e6606db-97d1-4401-f3d9-5f5b9cae4175"
      },
      "execution_count": 22,
      "outputs": [
        {
          "output_type": "execute_result",
          "data": {
            "text/plain": [
              "0             American, 1930–1992\n",
              "1              Spanish, born 1936\n",
              "2             American, born 1941\n",
              "3             American, born 1946\n",
              "4               Danish, born 1941\n",
              "                   ...           \n",
              "15590                         NaN\n",
              "15591                         NaN\n",
              "15592                         NaN\n",
              "15593                         NaN\n",
              "15594    Bangladesh, founded 2005\n",
              "Name: ArtistBio, Length: 15595, dtype: object"
            ],
            "text/html": [
              "<div>\n",
              "<style scoped>\n",
              "    .dataframe tbody tr th:only-of-type {\n",
              "        vertical-align: middle;\n",
              "    }\n",
              "\n",
              "    .dataframe tbody tr th {\n",
              "        vertical-align: top;\n",
              "    }\n",
              "\n",
              "    .dataframe thead th {\n",
              "        text-align: right;\n",
              "    }\n",
              "</style>\n",
              "<table border=\"1\" class=\"dataframe\">\n",
              "  <thead>\n",
              "    <tr style=\"text-align: right;\">\n",
              "      <th></th>\n",
              "      <th>ArtistBio</th>\n",
              "    </tr>\n",
              "  </thead>\n",
              "  <tbody>\n",
              "    <tr>\n",
              "      <th>0</th>\n",
              "      <td>American, 1930–1992</td>\n",
              "    </tr>\n",
              "    <tr>\n",
              "      <th>1</th>\n",
              "      <td>Spanish, born 1936</td>\n",
              "    </tr>\n",
              "    <tr>\n",
              "      <th>2</th>\n",
              "      <td>American, born 1941</td>\n",
              "    </tr>\n",
              "    <tr>\n",
              "      <th>3</th>\n",
              "      <td>American, born 1946</td>\n",
              "    </tr>\n",
              "    <tr>\n",
              "      <th>4</th>\n",
              "      <td>Danish, born 1941</td>\n",
              "    </tr>\n",
              "    <tr>\n",
              "      <th>...</th>\n",
              "      <td>...</td>\n",
              "    </tr>\n",
              "    <tr>\n",
              "      <th>15590</th>\n",
              "      <td>NaN</td>\n",
              "    </tr>\n",
              "    <tr>\n",
              "      <th>15591</th>\n",
              "      <td>NaN</td>\n",
              "    </tr>\n",
              "    <tr>\n",
              "      <th>15592</th>\n",
              "      <td>NaN</td>\n",
              "    </tr>\n",
              "    <tr>\n",
              "      <th>15593</th>\n",
              "      <td>NaN</td>\n",
              "    </tr>\n",
              "    <tr>\n",
              "      <th>15594</th>\n",
              "      <td>Bangladesh, founded 2005</td>\n",
              "    </tr>\n",
              "  </tbody>\n",
              "</table>\n",
              "<p>15595 rows × 1 columns</p>\n",
              "</div><br><label><b>dtype:</b> object</label>"
            ]
          },
          "metadata": {},
          "execution_count": 22
        }
      ]
    },
    {
      "cell_type": "code",
      "source": [
        "#Examine column Nationality\n",
        "df_moma_artists['Nationality']"
      ],
      "metadata": {
        "colab": {
          "base_uri": "https://localhost:8080/",
          "height": 458
        },
        "id": "7ukibIgWpoJ1",
        "outputId": "16697f9a-2273-45a3-f1b9-9ce79b382a8b"
      },
      "execution_count": 30,
      "outputs": [
        {
          "output_type": "execute_result",
          "data": {
            "text/plain": [
              "0           American\n",
              "1            Spanish\n",
              "2           American\n",
              "3           American\n",
              "4             Danish\n",
              "            ...     \n",
              "15590            NaN\n",
              "15591            NaN\n",
              "15592            NaN\n",
              "15593            NaN\n",
              "15594    Bangladeshi\n",
              "Name: Nationality, Length: 15595, dtype: object"
            ],
            "text/html": [
              "<div>\n",
              "<style scoped>\n",
              "    .dataframe tbody tr th:only-of-type {\n",
              "        vertical-align: middle;\n",
              "    }\n",
              "\n",
              "    .dataframe tbody tr th {\n",
              "        vertical-align: top;\n",
              "    }\n",
              "\n",
              "    .dataframe thead th {\n",
              "        text-align: right;\n",
              "    }\n",
              "</style>\n",
              "<table border=\"1\" class=\"dataframe\">\n",
              "  <thead>\n",
              "    <tr style=\"text-align: right;\">\n",
              "      <th></th>\n",
              "      <th>Nationality</th>\n",
              "    </tr>\n",
              "  </thead>\n",
              "  <tbody>\n",
              "    <tr>\n",
              "      <th>0</th>\n",
              "      <td>American</td>\n",
              "    </tr>\n",
              "    <tr>\n",
              "      <th>1</th>\n",
              "      <td>Spanish</td>\n",
              "    </tr>\n",
              "    <tr>\n",
              "      <th>2</th>\n",
              "      <td>American</td>\n",
              "    </tr>\n",
              "    <tr>\n",
              "      <th>3</th>\n",
              "      <td>American</td>\n",
              "    </tr>\n",
              "    <tr>\n",
              "      <th>4</th>\n",
              "      <td>Danish</td>\n",
              "    </tr>\n",
              "    <tr>\n",
              "      <th>...</th>\n",
              "      <td>...</td>\n",
              "    </tr>\n",
              "    <tr>\n",
              "      <th>15590</th>\n",
              "      <td>NaN</td>\n",
              "    </tr>\n",
              "    <tr>\n",
              "      <th>15591</th>\n",
              "      <td>NaN</td>\n",
              "    </tr>\n",
              "    <tr>\n",
              "      <th>15592</th>\n",
              "      <td>NaN</td>\n",
              "    </tr>\n",
              "    <tr>\n",
              "      <th>15593</th>\n",
              "      <td>NaN</td>\n",
              "    </tr>\n",
              "    <tr>\n",
              "      <th>15594</th>\n",
              "      <td>Bangladeshi</td>\n",
              "    </tr>\n",
              "  </tbody>\n",
              "</table>\n",
              "<p>15595 rows × 1 columns</p>\n",
              "</div><br><label><b>dtype:</b> object</label>"
            ]
          },
          "metadata": {},
          "execution_count": 30
        }
      ]
    },
    {
      "cell_type": "code",
      "source": [
        "#Figure out how many different nationalities exist\n",
        "column_data = df_moma_artists['Nationality']\n",
        "num_unique_strings = column_data.nunique()\n",
        "print(f'The number of unique strings in the column is: {num_unique_strings}')"
      ],
      "metadata": {
        "colab": {
          "base_uri": "https://localhost:8080/"
        },
        "id": "3izjRRkvrGEw",
        "outputId": "a5078573-be59-4ba0-aeb7-03f20ac31e1a"
      },
      "execution_count": 33,
      "outputs": [
        {
          "output_type": "stream",
          "name": "stdout",
          "text": [
            "The number of unique strings in the column is: 128\n"
          ]
        }
      ]
    },
    {
      "cell_type": "code",
      "source": [
        "#List the different nationalities by name\n",
        "column_data = df_moma_artists['Nationality']\n",
        "unique_strings = column_data.unique()\n",
        "print(f'The unique strings in the column are: {unique_strings}')"
      ],
      "metadata": {
        "colab": {
          "base_uri": "https://localhost:8080/"
        },
        "id": "VpO5I9bms22V",
        "outputId": "4468fe82-4047-4f56-e7ac-b82aa196b554"
      },
      "execution_count": 36,
      "outputs": [
        {
          "output_type": "stream",
          "name": "stdout",
          "text": [
            "The unique strings in the column are: ['American' 'Spanish' 'Danish' 'Italian' 'French' 'Estonian' 'Mexican'\n",
            " 'Swedish' nan 'Israeli' 'British' 'Finnish' 'Polish' 'Palestinian'\n",
            " 'Japanese' 'Guatemalan' 'Colombian' 'Romanian' 'Russian' 'German'\n",
            " 'Argentine' 'Kuwaiti' 'Belgian' 'Dutch' 'Norwegian' 'Nationality unknown'\n",
            " 'Chilean' 'Swiss' 'Costa Rican' 'Czech' 'Brazilian' 'Austrian' 'Canadian'\n",
            " 'Australian' 'Ukrainian' 'Hungarian' 'Haitian' 'Congolese' 'Bolivian'\n",
            " 'Cuban' 'Slovenian' 'Portuguese' 'Indian' 'Peruvian' 'Icelandic' 'Irish'\n",
            " 'Croatian' 'Uruguayan' 'Slovak' 'Greek' 'Serbian' 'Chinese' 'Venezuelan'\n",
            " 'Native American' 'Turkish' 'Panamanian' 'Algerian' 'Ecuadorian'\n",
            " 'South African' 'Iranian' 'Puerto Rican' 'Korean' 'Canadian Inuit'\n",
            " 'Paraguayan' 'Luxembourger' 'Nicaraguan' 'Zimbabwean' 'Moroccan'\n",
            " 'Tanzanian' 'Bulgarian' 'Tunisian' 'Sudanese' 'Taiwanese' 'Ethiopian'\n",
            " 'Yugoslav' 'Scottish' 'Latvian' 'Azerbaijani' 'Senegalese' 'Thai'\n",
            " 'New Zealander' 'Lithuanian' 'Pakistani' 'Bahamian' 'Bosnian' 'Malian'\n",
            " 'Czechoslovakian' 'Georgian' 'Egyptian' 'Kenyan' 'Emirati' 'Nigerian'\n",
            " 'Cypriot' 'Albanian' 'Ivorian' 'Malaysian' 'Singaporean' 'Namibian'\n",
            " 'Cambodian' 'Ghanaian' 'Afghan' 'Lebanese' 'Kyrgyz' 'Vietnamese'\n",
            " 'Ugandan' 'Cameroonian' 'Welsh' 'Catalan' 'Filipino' 'South Korean'\n",
            " 'Macedonian' 'Sahrawi' 'Mozambican' 'Bangladeshi' 'Coptic' 'Persian'\n",
            " 'Burkinabé' 'Beninese' 'Sierra Leonean' 'Sri Lankan' 'Salvadoran' 'Iraqi'\n",
            " 'Caribbean' 'Syrian' 'Trinidad and Tobagonian' 'Indonesian' 'Nepali'\n",
            " 'English' 'Oneida']\n"
          ]
        }
      ]
    },
    {
      "cell_type": "code",
      "source": [
        "#Create a variable called Nationality that includes the list of nationalities\n",
        "nationality = [unique_strings]\n",
        "print(nationality)"
      ],
      "metadata": {
        "colab": {
          "base_uri": "https://localhost:8080/"
        },
        "id": "adXHrR8btPAi",
        "outputId": "592e5c5e-fe14-4686-911f-1aeb57a801e2"
      },
      "execution_count": 44,
      "outputs": [
        {
          "output_type": "stream",
          "name": "stdout",
          "text": [
            "[array(['American', 'Spanish', 'Danish', 'Italian', 'French', 'Estonian',\n",
            "       'Mexican', 'Swedish', nan, 'Israeli', 'British', 'Finnish',\n",
            "       'Polish', 'Palestinian', 'Japanese', 'Guatemalan', 'Colombian',\n",
            "       'Romanian', 'Russian', 'German', 'Argentine', 'Kuwaiti', 'Belgian',\n",
            "       'Dutch', 'Norwegian', 'Nationality unknown', 'Chilean', 'Swiss',\n",
            "       'Costa Rican', 'Czech', 'Brazilian', 'Austrian', 'Canadian',\n",
            "       'Australian', 'Ukrainian', 'Hungarian', 'Haitian', 'Congolese',\n",
            "       'Bolivian', 'Cuban', 'Slovenian', 'Portuguese', 'Indian',\n",
            "       'Peruvian', 'Icelandic', 'Irish', 'Croatian', 'Uruguayan',\n",
            "       'Slovak', 'Greek', 'Serbian', 'Chinese', 'Venezuelan',\n",
            "       'Native American', 'Turkish', 'Panamanian', 'Algerian',\n",
            "       'Ecuadorian', 'South African', 'Iranian', 'Puerto Rican', 'Korean',\n",
            "       'Canadian Inuit', 'Paraguayan', 'Luxembourger', 'Nicaraguan',\n",
            "       'Zimbabwean', 'Moroccan', 'Tanzanian', 'Bulgarian', 'Tunisian',\n",
            "       'Sudanese', 'Taiwanese', 'Ethiopian', 'Yugoslav', 'Scottish',\n",
            "       'Latvian', 'Azerbaijani', 'Senegalese', 'Thai', 'New Zealander',\n",
            "       'Lithuanian', 'Pakistani', 'Bahamian', 'Bosnian', 'Malian',\n",
            "       'Czechoslovakian', 'Georgian', 'Egyptian', 'Kenyan', 'Emirati',\n",
            "       'Nigerian', 'Cypriot', 'Albanian', 'Ivorian', 'Malaysian',\n",
            "       'Singaporean', 'Namibian', 'Cambodian', 'Ghanaian', 'Afghan',\n",
            "       'Lebanese', 'Kyrgyz', 'Vietnamese', 'Ugandan', 'Cameroonian',\n",
            "       'Welsh', 'Catalan', 'Filipino', 'South Korean', 'Macedonian',\n",
            "       'Sahrawi', 'Mozambican', 'Bangladeshi', 'Coptic', 'Persian',\n",
            "       'Burkinabé', 'Beninese', 'Sierra Leonean', 'Sri Lankan',\n",
            "       'Salvadoran', 'Iraqi', 'Caribbean', 'Syrian',\n",
            "       'Trinidad and Tobagonian', 'Indonesian', 'Nepali', 'English',\n",
            "       'Oneida'], dtype=object)]\n"
          ]
        }
      ]
    },
    {
      "cell_type": "code",
      "source": [
        "#Import Numpy\n",
        "import numpy as np"
      ],
      "metadata": {
        "id": "wVz2FIgVwH-V"
      },
      "execution_count": 40,
      "outputs": []
    },
    {
      "cell_type": "code",
      "source": [
        "#Convert to an array\n",
        "data_array = np.array(nationality)\n",
        "nationality, counts = np.unique(data_array, return_counts=True)\n",
        "for string, count in zip(nationality, counts):\n",
        "  print(f'Frequency of \"{string}\": {count}')"
      ],
      "metadata": {
        "colab": {
          "base_uri": "https://localhost:8080/",
          "height": 365
        },
        "id": "_YsDWhxDxLBY",
        "outputId": "501ee76c-3f7e-4c98-a0e1-951a3976add9"
      },
      "execution_count": 71,
      "outputs": [
        {
          "output_type": "error",
          "ename": "TypeError",
          "evalue": "'<' not supported between instances of 'float' and 'str'",
          "traceback": [
            "\u001b[0;31m---------------------------------------------------------------------------\u001b[0m",
            "\u001b[0;31mTypeError\u001b[0m                                 Traceback (most recent call last)",
            "\u001b[0;32m<ipython-input-71-58e4f33e6c39>\u001b[0m in \u001b[0;36m<cell line: 3>\u001b[0;34m()\u001b[0m\n\u001b[1;32m      1\u001b[0m \u001b[0;31m#Convert to an array\u001b[0m\u001b[0;34m\u001b[0m\u001b[0;34m\u001b[0m\u001b[0m\n\u001b[1;32m      2\u001b[0m \u001b[0mdata_array\u001b[0m \u001b[0;34m=\u001b[0m \u001b[0mnp\u001b[0m\u001b[0;34m.\u001b[0m\u001b[0marray\u001b[0m\u001b[0;34m(\u001b[0m\u001b[0mnationality\u001b[0m\u001b[0;34m)\u001b[0m\u001b[0;34m\u001b[0m\u001b[0;34m\u001b[0m\u001b[0m\n\u001b[0;32m----> 3\u001b[0;31m \u001b[0mnationality\u001b[0m\u001b[0;34m,\u001b[0m \u001b[0mcounts\u001b[0m \u001b[0;34m=\u001b[0m \u001b[0mnp\u001b[0m\u001b[0;34m.\u001b[0m\u001b[0munique\u001b[0m\u001b[0;34m(\u001b[0m\u001b[0mdata_array\u001b[0m\u001b[0;34m,\u001b[0m \u001b[0mreturn_counts\u001b[0m\u001b[0;34m=\u001b[0m\u001b[0;32mTrue\u001b[0m\u001b[0;34m)\u001b[0m\u001b[0;34m\u001b[0m\u001b[0;34m\u001b[0m\u001b[0m\n\u001b[0m\u001b[1;32m      4\u001b[0m \u001b[0;32mfor\u001b[0m \u001b[0mstring\u001b[0m\u001b[0;34m,\u001b[0m \u001b[0mcount\u001b[0m \u001b[0;32min\u001b[0m \u001b[0mzip\u001b[0m\u001b[0;34m(\u001b[0m\u001b[0mnationality\u001b[0m\u001b[0;34m,\u001b[0m \u001b[0mcounts\u001b[0m\u001b[0;34m)\u001b[0m\u001b[0;34m:\u001b[0m\u001b[0;34m\u001b[0m\u001b[0;34m\u001b[0m\u001b[0m\n\u001b[1;32m      5\u001b[0m   \u001b[0mprint\u001b[0m\u001b[0;34m(\u001b[0m\u001b[0;34mf'Frequency of \"{string}\": {count}'\u001b[0m\u001b[0;34m)\u001b[0m\u001b[0;34m\u001b[0m\u001b[0;34m\u001b[0m\u001b[0m\n",
            "\u001b[0;32m/usr/local/lib/python3.10/dist-packages/numpy/lib/arraysetops.py\u001b[0m in \u001b[0;36munique\u001b[0;34m(ar, return_index, return_inverse, return_counts, axis, equal_nan)\u001b[0m\n\u001b[1;32m    272\u001b[0m     \u001b[0mar\u001b[0m \u001b[0;34m=\u001b[0m \u001b[0mnp\u001b[0m\u001b[0;34m.\u001b[0m\u001b[0masanyarray\u001b[0m\u001b[0;34m(\u001b[0m\u001b[0mar\u001b[0m\u001b[0;34m)\u001b[0m\u001b[0;34m\u001b[0m\u001b[0;34m\u001b[0m\u001b[0m\n\u001b[1;32m    273\u001b[0m     \u001b[0;32mif\u001b[0m \u001b[0maxis\u001b[0m \u001b[0;32mis\u001b[0m \u001b[0;32mNone\u001b[0m\u001b[0;34m:\u001b[0m\u001b[0;34m\u001b[0m\u001b[0;34m\u001b[0m\u001b[0m\n\u001b[0;32m--> 274\u001b[0;31m         ret = _unique1d(ar, return_index, return_inverse, return_counts, \n\u001b[0m\u001b[1;32m    275\u001b[0m                         equal_nan=equal_nan)\n\u001b[1;32m    276\u001b[0m         \u001b[0;32mreturn\u001b[0m \u001b[0m_unpack_tuple\u001b[0m\u001b[0;34m(\u001b[0m\u001b[0mret\u001b[0m\u001b[0;34m)\u001b[0m\u001b[0;34m\u001b[0m\u001b[0;34m\u001b[0m\u001b[0m\n",
            "\u001b[0;32m/usr/local/lib/python3.10/dist-packages/numpy/lib/arraysetops.py\u001b[0m in \u001b[0;36m_unique1d\u001b[0;34m(ar, return_index, return_inverse, return_counts, equal_nan)\u001b[0m\n\u001b[1;32m    334\u001b[0m         \u001b[0maux\u001b[0m \u001b[0;34m=\u001b[0m \u001b[0mar\u001b[0m\u001b[0;34m[\u001b[0m\u001b[0mperm\u001b[0m\u001b[0;34m]\u001b[0m\u001b[0;34m\u001b[0m\u001b[0;34m\u001b[0m\u001b[0m\n\u001b[1;32m    335\u001b[0m     \u001b[0;32melse\u001b[0m\u001b[0;34m:\u001b[0m\u001b[0;34m\u001b[0m\u001b[0;34m\u001b[0m\u001b[0m\n\u001b[0;32m--> 336\u001b[0;31m         \u001b[0mar\u001b[0m\u001b[0;34m.\u001b[0m\u001b[0msort\u001b[0m\u001b[0;34m(\u001b[0m\u001b[0;34m)\u001b[0m\u001b[0;34m\u001b[0m\u001b[0;34m\u001b[0m\u001b[0m\n\u001b[0m\u001b[1;32m    337\u001b[0m         \u001b[0maux\u001b[0m \u001b[0;34m=\u001b[0m \u001b[0mar\u001b[0m\u001b[0;34m\u001b[0m\u001b[0;34m\u001b[0m\u001b[0m\n\u001b[1;32m    338\u001b[0m     \u001b[0mmask\u001b[0m \u001b[0;34m=\u001b[0m \u001b[0mnp\u001b[0m\u001b[0;34m.\u001b[0m\u001b[0mempty\u001b[0m\u001b[0;34m(\u001b[0m\u001b[0maux\u001b[0m\u001b[0;34m.\u001b[0m\u001b[0mshape\u001b[0m\u001b[0;34m,\u001b[0m \u001b[0mdtype\u001b[0m\u001b[0;34m=\u001b[0m\u001b[0mnp\u001b[0m\u001b[0;34m.\u001b[0m\u001b[0mbool_\u001b[0m\u001b[0;34m)\u001b[0m\u001b[0;34m\u001b[0m\u001b[0;34m\u001b[0m\u001b[0m\n",
            "\u001b[0;31mTypeError\u001b[0m: '<' not supported between instances of 'float' and 'str'"
          ]
        }
      ]
    },
    {
      "cell_type": "code",
      "source": [
        "#Import Matplotlib\n",
        "import matplotlib.pyplot as plt"
      ],
      "metadata": {
        "id": "nW90p8GvzZ-7"
      },
      "execution_count": 53,
      "outputs": []
    },
    {
      "cell_type": "code",
      "source": [
        "#Plot list as bar chart\n",
        "value_counts = df_moma_artists['Nationality'].value_counts()\n",
        "value_counts.plot(kind='bar', color='skyblue', edgecolor='black')\n",
        "plt.title('Frequency of Nationalities')\n",
        "plt.xlabel('Nationality')\n",
        "plt.ylabel('Frequency')\n",
        "plt.show()"
      ],
      "metadata": {
        "colab": {
          "base_uri": "https://localhost:8080/",
          "height": 627
        },
        "id": "13gh6a3Q1ycM",
        "outputId": "69aa98dd-125d-49ef-d3dc-c0d2e9c63257"
      },
      "execution_count": 67,
      "outputs": [
        {
          "output_type": "display_data",
          "data": {
            "text/plain": [
              "<Figure size 640x480 with 1 Axes>"
            ],
            "image/png": "[encoded data removed]"
          },
          "metadata": {}
        }
      ]
    },
    {
      "cell_type": "code",
      "source": [],
      "metadata": {
        "id": "iQZwN3gW56uq"
      },
      "execution_count": null,
      "outputs": []
    }
  ]
}